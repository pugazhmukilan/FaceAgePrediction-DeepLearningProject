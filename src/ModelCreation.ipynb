{
 "cells": [
  {
   "cell_type": "markdown",
   "metadata": {},
   "source": [
    "## LOAD DATASET (PREPROCESSED DATA)"
   ]
  },
  {
   "cell_type": "markdown",
   "metadata": {},
   "source": []
  },
  {
   "cell_type": "code",
   "execution_count": 1,
   "metadata": {},
   "outputs": [],
   "source": [
    "import tensorflow as tf\n",
    "from tensorflow.keras.preprocessing import  image_dataset_from_directory\n",
    "import os\n",
    "os.environ['TF_CPP_MIN_LOG_LEVEL'] = '2'  # To show all logs, including debug messages\n"
   ]
  },
  {
   "cell_type": "code",
   "execution_count": 2,
   "metadata": {},
   "outputs": [],
   "source": [
    "# import torch\n",
    "# print(\"CUDA available:\", torch.cuda.is_available())\n",
    "# print(\"GPU name:\", torch.cuda.get_device_name(0))"
   ]
  },
  {
   "cell_type": "code",
   "execution_count": 3,
   "metadata": {},
   "outputs": [],
   "source": [
    "PROCESSED_DATASET_PATH = r\"Dataset/ProcessedData\""
   ]
  },
  {
   "cell_type": "code",
   "execution_count": null,
   "metadata": {},
   "outputs": [],
   "source": [
    "\n"
   ]
  },
  {
   "cell_type": "markdown",
   "metadata": {},
   "source": [
    "# GETTING THE DATASET FROM PREPROCESSED DATASET"
   ]
  },
  {
   "cell_type": "code",
   "execution_count": 4,
   "metadata": {},
   "outputs": [
    {
     "name": "stdout",
     "output_type": "stream",
     "text": [
      "Found 9778 files belonging to 99 classes.\n"
     ]
    }
   ],
   "source": [
    "dataset = image_dataset_from_directory(\n",
    "        PROCESSED_DATASET_PATH,\n",
    "        image_size = (224,224),\n",
    "        batch_size = 32,        # it will take 32 images at ocne for processing\n",
    "        labels = \"inferred\",     #name of the  class will be taken from the folder name\n",
    "        label_mode = 'int',  #telling the model that output label will be integer type\n",
    "        shuffle = True,\n",
    "        seed = 42\n",
    ")\n",
    "            \n"
   ]
  },
  {
   "cell_type": "code",
   "execution_count": 5,
   "metadata": {},
   "outputs": [],
   "source": [
    "train_size = int(0.8 * len(dataset))\n",
    "val_size  = int(0.1 * len(dataset))\n",
    "test_size = len(dataset)  - (train_size + val_size)\n"
   ]
  },
  {
   "cell_type": "markdown",
   "metadata": {},
   "source": [
    "## ASSIGNING THE DATASETS TO THE SPECIFIC VARIABLES \n"
   ]
  },
  {
   "cell_type": "markdown",
   "metadata": {},
   "source": [
    "splitting the dataset to train dataset test dataset and validation dataset"
   ]
  },
  {
   "cell_type": "code",
   "execution_count": 6,
   "metadata": {},
   "outputs": [],
   "source": [
    "train_dataset = dataset.take(train_size)\n",
    "test_dataset = dataset.take(test_size)\n",
    "val_dataset = dataset.take(val_size)"
   ]
  },
  {
   "cell_type": "code",
   "execution_count": 7,
   "metadata": {},
   "outputs": [
    {
     "data": {
      "text/plain": [
       "<_TakeDataset element_spec=(TensorSpec(shape=(None, 224, 224, 3), dtype=tf.float32, name=None), TensorSpec(shape=(None,), dtype=tf.int32, name=None))>"
      ]
     },
     "execution_count": 7,
     "metadata": {},
     "output_type": "execute_result"
    }
   ],
   "source": [
    "train_dataset"
   ]
  },
  {
   "cell_type": "code",
   "execution_count": 8,
   "metadata": {},
   "outputs": [],
   "source": [
    "from tensorflow.keras import layers, models\n",
    "from tensorflow.keras.optimizers import Adam\n",
    "from tensorflow.keras.callbacks import ModelCheckpoint, EarlyStopping, ReduceLROnPlateau\n"
   ]
  },
  {
   "cell_type": "code",
   "execution_count": 9,
   "metadata": {},
   "outputs": [],
   "source": [
    "\n",
    "# Dynamically determine the number of classes\n",
    "INPUT_SHAPE = (224, 224, 3)  # Input shape of the images\n",
    "EPOCHS = 10\n",
    "LEARNING_RATE = 0.1\n"
   ]
  },
  {
   "cell_type": "code",
   "execution_count": 10,
   "metadata": {},
   "outputs": [],
   "source": [
    "\n",
    "# Step 1: Define the Model\n",
    "def create_model():\n",
    "    model = models.Sequential([\n",
    "        # Base Convolutional Layers\n",
    "        layers.Conv2D(32, (3, 3), activation='relu', input_shape=INPUT_SHAPE),\n",
    "        layers.MaxPooling2D((2, 2)),\n",
    "        layers.Conv2D(64, (3, 3), activation='relu'),\n",
    "        layers.MaxPooling2D((2, 2)),\n",
    "   \n",
    "        \n",
    "\n",
    "        # Flatten and Fully Connected Layers\n",
    "        layers.Flatten(),\n",
    "        # layers.GlobalAveragePooling2D(),\n",
    "        layers.Dense(128, activation='relu',kernel_regularizer=tf.keras.regularizers.l2(0.01)),\n",
    "        layers.Dropout(0.5),\n",
    "        layers.Dense(101,activation='softmax')  # Final layer for classification\n",
    "    ])\n",
    "    return model\n"
   ]
  },
  {
   "cell_type": "code",
   "execution_count": 11,
   "metadata": {},
   "outputs": [
    {
     "name": "stderr",
     "output_type": "stream",
     "text": [
      "c:\\Users\\PUGAZH\\Desktop\\Projects\\DeepLearning\\FaceAgeDetection\\dlvenv\\lib\\site-packages\\keras\\src\\layers\\convolutional\\base_conv.py:107: UserWarning: Do not pass an `input_shape`/`input_dim` argument to a layer. When using Sequential models, prefer using an `Input(shape)` object as the first layer in the model instead.\n",
      "  super().__init__(activity_regularizer=activity_regularizer, **kwargs)\n"
     ]
    }
   ],
   "source": [
    "\n",
    "# Step 2: Compile the Model\n",
    "model = create_model()\n",
    "\n",
    "model.compile(\n",
    "    optimizer=tf.keras.optimizers.AdamW(learning_rate=0.001, weight_decay=1e-5),\n",
    "    loss='sparse_categorical_crossentropy',  # Use sparse_categorical_crossentropy for integer labels\n",
    "    metrics=['accuracy']\n",
    "    \n",
    ")\n"
   ]
  },
  {
   "cell_type": "code",
   "execution_count": 12,
   "metadata": {},
   "outputs": [],
   "source": [
    "\n",
    "# Step 3: Set Up Callbacks\n",
    "callbacks = [\n",
    "    ModelCheckpoint(\n",
    "        filepath='model_best.h5',  # Save the best model\n",
    "        save_best_only=True,\n",
    "        monitor='val_accuracy',  # Monitor validation accuracy\n",
    "        mode='max',\n",
    "        verbose=1\n",
    "    ),\n",
    "    EarlyStopping(\n",
    "        patience=5,  # Stop training if no improvement for 5 epochs\n",
    "        monitor='val_loss',\n",
    "        mode='min',\n",
    "        verbose=1,\n",
    "        restore_best_weights=True\n",
    "    ),\n",
    "    ReduceLROnPlateau(\n",
    "        monitor='val_loss',\n",
    "        factor=0.2,  # Reduce learning rate by a factor of 0.2\n",
    "        patience=3,  # If no improvement for 3 epochs\n",
    "        min_lr=1e-6,\n",
    "        verbose=1\n",
    "    )\n",
    "]\n",
    "\n"
   ]
  },
  {
   "cell_type": "code",
   "execution_count": 13,
   "metadata": {},
   "outputs": [
    {
     "name": "stdout",
     "output_type": "stream",
     "text": [
      "Epoch 1/10\n",
      "\u001b[1m244/244\u001b[0m \u001b[32m━━━━━━━━━━━━━━━━━━━━\u001b[0m\u001b[37m\u001b[0m \u001b[1m0s\u001b[0m 301ms/step - accuracy: 0.0705 - loss: 82.5089\n",
      "Epoch 1: val_accuracy improved from -inf to 0.13229, saving model to model_best.h5\n"
     ]
    },
    {
     "name": "stderr",
     "output_type": "stream",
     "text": [
      "WARNING:absl:You are saving your model as an HDF5 file via `model.save()` or `keras.saving.save_model(model)`. This file format is considered legacy. We recommend using instead the native Keras format, e.g. `model.save('my_model.keras')` or `keras.saving.save_model(model, 'my_model.keras')`. \n"
     ]
    },
    {
     "name": "stdout",
     "output_type": "stream",
     "text": [
      "\u001b[1m244/244\u001b[0m \u001b[32m━━━━━━━━━━━━━━━━━━━━\u001b[0m\u001b[37m\u001b[0m \u001b[1m77s\u001b[0m 309ms/step - accuracy: 0.0706 - loss: 82.2677 - val_accuracy: 0.1323 - val_loss: 6.6830 - learning_rate: 0.0010\n",
      "Epoch 2/10\n",
      "\u001b[1m244/244\u001b[0m \u001b[32m━━━━━━━━━━━━━━━━━━━━\u001b[0m\u001b[37m\u001b[0m \u001b[1m0s\u001b[0m 272ms/step - accuracy: 0.1214 - loss: 6.4864\n",
      "Epoch 2: val_accuracy improved from 0.13229 to 0.13542, saving model to model_best.h5\n"
     ]
    },
    {
     "name": "stderr",
     "output_type": "stream",
     "text": [
      "WARNING:absl:You are saving your model as an HDF5 file via `model.save()` or `keras.saving.save_model(model)`. This file format is considered legacy. We recommend using instead the native Keras format, e.g. `model.save('my_model.keras')` or `keras.saving.save_model(model, 'my_model.keras')`. \n"
     ]
    },
    {
     "name": "stdout",
     "output_type": "stream",
     "text": [
      "\u001b[1m244/244\u001b[0m \u001b[32m━━━━━━━━━━━━━━━━━━━━\u001b[0m\u001b[37m\u001b[0m \u001b[1m68s\u001b[0m 280ms/step - accuracy: 0.1214 - loss: 6.4854 - val_accuracy: 0.1354 - val_loss: 5.5469 - learning_rate: 0.0010\n",
      "Epoch 3/10\n",
      "\u001b[1m244/244\u001b[0m \u001b[32m━━━━━━━━━━━━━━━━━━━━\u001b[0m\u001b[37m\u001b[0m \u001b[1m0s\u001b[0m 268ms/step - accuracy: 0.1296 - loss: 5.5177\n",
      "Epoch 3: val_accuracy improved from 0.13542 to 0.13646, saving model to model_best.h5\n"
     ]
    },
    {
     "name": "stderr",
     "output_type": "stream",
     "text": [
      "WARNING:absl:You are saving your model as an HDF5 file via `model.save()` or `keras.saving.save_model(model)`. This file format is considered legacy. We recommend using instead the native Keras format, e.g. `model.save('my_model.keras')` or `keras.saving.save_model(model, 'my_model.keras')`. \n"
     ]
    },
    {
     "name": "stdout",
     "output_type": "stream",
     "text": [
      "\u001b[1m244/244\u001b[0m \u001b[32m━━━━━━━━━━━━━━━━━━━━\u001b[0m\u001b[37m\u001b[0m \u001b[1m67s\u001b[0m 275ms/step - accuracy: 0.1296 - loss: 5.5172 - val_accuracy: 0.1365 - val_loss: 4.9604 - learning_rate: 0.0010\n",
      "Epoch 4/10\n",
      "\u001b[1m244/244\u001b[0m \u001b[32m━━━━━━━━━━━━━━━━━━━━\u001b[0m\u001b[37m\u001b[0m \u001b[1m0s\u001b[0m 266ms/step - accuracy: 0.1335 - loss: 5.0390\n",
      "Epoch 4: val_accuracy improved from 0.13646 to 0.14583, saving model to model_best.h5\n"
     ]
    },
    {
     "name": "stderr",
     "output_type": "stream",
     "text": [
      "WARNING:absl:You are saving your model as an HDF5 file via `model.save()` or `keras.saving.save_model(model)`. This file format is considered legacy. We recommend using instead the native Keras format, e.g. `model.save('my_model.keras')` or `keras.saving.save_model(model, 'my_model.keras')`. \n"
     ]
    },
    {
     "name": "stdout",
     "output_type": "stream",
     "text": [
      "\u001b[1m244/244\u001b[0m \u001b[32m━━━━━━━━━━━━━━━━━━━━\u001b[0m\u001b[37m\u001b[0m \u001b[1m67s\u001b[0m 274ms/step - accuracy: 0.1335 - loss: 5.0387 - val_accuracy: 0.1458 - val_loss: 4.6567 - learning_rate: 0.0010\n",
      "Epoch 5/10\n",
      "\u001b[1m244/244\u001b[0m \u001b[32m━━━━━━━━━━━━━━━━━━━━\u001b[0m\u001b[37m\u001b[0m \u001b[1m0s\u001b[0m 276ms/step - accuracy: 0.1454 - loss: 4.6941\n",
      "Epoch 5: val_accuracy improved from 0.14583 to 0.16042, saving model to model_best.h5\n"
     ]
    },
    {
     "name": "stderr",
     "output_type": "stream",
     "text": [
      "WARNING:absl:You are saving your model as an HDF5 file via `model.save()` or `keras.saving.save_model(model)`. This file format is considered legacy. We recommend using instead the native Keras format, e.g. `model.save('my_model.keras')` or `keras.saving.save_model(model, 'my_model.keras')`. \n"
     ]
    },
    {
     "name": "stdout",
     "output_type": "stream",
     "text": [
      "\u001b[1m244/244\u001b[0m \u001b[32m━━━━━━━━━━━━━━━━━━━━\u001b[0m\u001b[37m\u001b[0m \u001b[1m69s\u001b[0m 284ms/step - accuracy: 0.1454 - loss: 4.6939 - val_accuracy: 0.1604 - val_loss: 4.3231 - learning_rate: 0.0010\n",
      "Epoch 6/10\n",
      "\u001b[1m244/244\u001b[0m \u001b[32m━━━━━━━━━━━━━━━━━━━━\u001b[0m\u001b[37m\u001b[0m \u001b[1m0s\u001b[0m 273ms/step - accuracy: 0.1491 - loss: 4.4307\n",
      "Epoch 6: val_accuracy did not improve from 0.16042\n",
      "\u001b[1m244/244\u001b[0m \u001b[32m━━━━━━━━━━━━━━━━━━━━\u001b[0m\u001b[37m\u001b[0m \u001b[1m68s\u001b[0m 280ms/step - accuracy: 0.1490 - loss: 4.4306 - val_accuracy: 0.1479 - val_loss: 4.2619 - learning_rate: 0.0010\n",
      "Epoch 7/10\n",
      "\u001b[1m244/244\u001b[0m \u001b[32m━━━━━━━━━━━━━━━━━━━━\u001b[0m\u001b[37m\u001b[0m \u001b[1m0s\u001b[0m 460ms/step - accuracy: 0.1465 - loss: 4.2972\n",
      "Epoch 7: val_accuracy improved from 0.16042 to 0.17708, saving model to model_best.h5\n"
     ]
    },
    {
     "name": "stderr",
     "output_type": "stream",
     "text": [
      "WARNING:absl:You are saving your model as an HDF5 file via `model.save()` or `keras.saving.save_model(model)`. This file format is considered legacy. We recommend using instead the native Keras format, e.g. `model.save('my_model.keras')` or `keras.saving.save_model(model, 'my_model.keras')`. \n"
     ]
    },
    {
     "name": "stdout",
     "output_type": "stream",
     "text": [
      "\u001b[1m244/244\u001b[0m \u001b[32m━━━━━━━━━━━━━━━━━━━━\u001b[0m\u001b[37m\u001b[0m \u001b[1m114s\u001b[0m 467ms/step - accuracy: 0.1465 - loss: 4.2972 - val_accuracy: 0.1771 - val_loss: 4.1143 - learning_rate: 0.0010\n",
      "Epoch 8/10\n",
      "\u001b[1m244/244\u001b[0m \u001b[32m━━━━━━━━━━━━━━━━━━━━\u001b[0m\u001b[37m\u001b[0m \u001b[1m0s\u001b[0m 265ms/step - accuracy: 0.1580 - loss: 4.1936\n",
      "Epoch 8: val_accuracy did not improve from 0.17708\n",
      "\u001b[1m244/244\u001b[0m \u001b[32m━━━━━━━━━━━━━━━━━━━━\u001b[0m\u001b[37m\u001b[0m \u001b[1m66s\u001b[0m 271ms/step - accuracy: 0.1580 - loss: 4.1937 - val_accuracy: 0.1646 - val_loss: 4.0118 - learning_rate: 0.0010\n",
      "Epoch 9/10\n",
      "\u001b[1m244/244\u001b[0m \u001b[32m━━━━━━━━━━━━━━━━━━━━\u001b[0m\u001b[37m\u001b[0m \u001b[1m0s\u001b[0m 264ms/step - accuracy: 0.1504 - loss: 4.1156\n",
      "Epoch 9: val_accuracy did not improve from 0.17708\n",
      "\u001b[1m244/244\u001b[0m \u001b[32m━━━━━━━━━━━━━━━━━━━━\u001b[0m\u001b[37m\u001b[0m \u001b[1m66s\u001b[0m 270ms/step - accuracy: 0.1504 - loss: 4.1155 - val_accuracy: 0.1615 - val_loss: 3.9227 - learning_rate: 0.0010\n",
      "Epoch 10/10\n",
      "\u001b[1m244/244\u001b[0m \u001b[32m━━━━━━━━━━━━━━━━━━━━\u001b[0m\u001b[37m\u001b[0m \u001b[1m0s\u001b[0m 267ms/step - accuracy: 0.1517 - loss: 4.0695\n",
      "Epoch 10: val_accuracy did not improve from 0.17708\n",
      "\u001b[1m244/244\u001b[0m \u001b[32m━━━━━━━━━━━━━━━━━━━━\u001b[0m\u001b[37m\u001b[0m \u001b[1m67s\u001b[0m 274ms/step - accuracy: 0.1517 - loss: 4.0695 - val_accuracy: 0.1750 - val_loss: 3.8850 - learning_rate: 0.0010\n",
      "Restoring model weights from the end of the best epoch: 10.\n"
     ]
    }
   ],
   "source": [
    "# Step 4: Train the Model\n",
    "history = model.fit(\n",
    "    train_dataset,\n",
    "    validation_data=val_dataset,\n",
    "    epochs=EPOCHS,\n",
    "    \n",
    "    callbacks=callbacks,\n",
    "    verbose=1\n",
    ")\n",
    "\n"
   ]
  },
  {
   "cell_type": "code",
   "execution_count": 14,
   "metadata": {},
   "outputs": [
    {
     "name": "stdout",
     "output_type": "stream",
     "text": [
      "\u001b[1m32/32\u001b[0m \u001b[32m━━━━━━━━━━━━━━━━━━━━\u001b[0m\u001b[37m\u001b[0m \u001b[1m2s\u001b[0m 55ms/step - accuracy: 0.1698 - loss: 3.8907\n",
      "Test Accuracy: 0.19\n"
     ]
    }
   ],
   "source": [
    "# Step 5: Evaluate the Model\n",
    "test_loss, test_accuracy = model.evaluate(test_dataset, verbose=1)\n",
    "print(f\"Test Accuracy: {test_accuracy:.2f}\")"
   ]
  },
  {
   "cell_type": "code",
   "execution_count": 17,
   "metadata": {},
   "outputs": [
    {
     "name": "stderr",
     "output_type": "stream",
     "text": [
      "WARNING:absl:Compiled the loaded model, but the compiled metrics have yet to be built. `model.compile_metrics` will be empty until you train or evaluate the model.\n"
     ]
    },
    {
     "name": "stdout",
     "output_type": "stream",
     "text": [
      "Model loaded successfully from model_best.h5\n",
      "Image preprocessed successfully: (1, 224, 224, 3)\n",
      "\u001b[1m1/1\u001b[0m \u001b[32m━━━━━━━━━━━━━━━━━━━━\u001b[0m\u001b[37m\u001b[0m \u001b[1m0s\u001b[0m 57ms/step\n",
      "Predicted age: 25\n",
      "The predicted age for the given image is: 25\n"
     ]
    }
   ],
   "source": [
    "import os\n",
    "import numpy as np\n",
    "import tensorflow as tf\n",
    "from tensorflow.keras.preprocessing.image import load_img, img_to_array\n",
    "from tensorflow.keras.models import load_model\n",
    "\n",
    "def predict_age_from_image(image_path, model_path='model_best.h5', image_size=(224, 224)):\n",
    "    \"\"\"\n",
    "    Given an image file path, this function will:\n",
    "    1. Load the pre-trained model from a specified path.\n",
    "    2. Preprocess the image (resize and normalize).\n",
    "    3. Make a prediction on the age.\n",
    "    4. Return the predicted age.\n",
    "    \n",
    "    Parameters:\n",
    "    - image_path: Path to the image file for which the age is to be predicted.\n",
    "    - model_path: Path to the saved trained model (.h5 format).\n",
    "    - image_size: Target size for resizing the image to match the model input (default: (224, 224)).\n",
    "    \n",
    "    Returns:\n",
    "    - predicted_age: The predicted age (a discrete value).\n",
    "    \"\"\"\n",
    "    \n",
    "    try:\n",
    "        # ------------------- Step 1: Load the Trained Model ------------------- #\n",
    "        model = load_model(model_path)  # Load the model from the specified path\n",
    "        print(f\"Model loaded successfully from {model_path}\")\n",
    "        \n",
    "    except Exception as e:\n",
    "        print(f\"Error loading the model: {e}\")\n",
    "        return None\n",
    "    \n",
    "    try:\n",
    "        # ------------------- Step 2: Preprocess the Input Image ------------------- #\n",
    "        # Load the image\n",
    "        image = load_img(image_path, target_size=image_size)  # Resize the image\n",
    "        image = img_to_array(image)  # Convert image to a NumPy array\n",
    "        \n",
    "        # Normalize the image (scale pixel values to range [0, 1])\n",
    "        image = tf.cast(image, tf.float32) / 255.0\n",
    "        \n",
    "        # Add a batch dimension (model expects a batch of images, not just one)\n",
    "        image = np.expand_dims(image, axis=0)  # Shape: (1, 224, 224, 3)\n",
    "        print(f\"Image preprocessed successfully: {image.shape}\")\n",
    "        \n",
    "    except Exception as e:\n",
    "        print(f\"Error preprocessing the image {image_path}: {e}\")\n",
    "        return None\n",
    "    \n",
    "    try:\n",
    "        # ------------------- Step 3: Make the Prediction ------------------- #\n",
    "        # Predict the output using the model (returns a probability distribution over ages)\n",
    "        prediction = model.predict(image)\n",
    "        \n",
    "        # Get the index of the highest probability (i.e., the predicted age)\n",
    "        predicted_age = np.argmax(prediction)  # Index with the highest probability\n",
    "        print(f\"Predicted age: {predicted_age}\")\n",
    "        \n",
    "        return predicted_age  # Return the predicted age\n",
    "        \n",
    "    except Exception as e:\n",
    "        print(f\"Error making prediction for {image_path}: {e}\")\n",
    "        return None\n",
    "\n",
    "# Example usage:\n",
    "image_path = 'path_to_image.jpg'  # Replace with the actual image path\n",
    "predicted_age = predict_age_from_image(r\"C:\\Users\\PUGAZH\\Desktop\\Projects\\DeepLearning\\FaceAgeDetection\\src\\Dataset\\face_age\\028\\41.png\")\n",
    "\n",
    "if predicted_age is not None:\n",
    "    print(f\"The predicted age for the given image is: {predicted_age}\")\n"
   ]
  }
 ],
 "metadata": {
  "kernelspec": {
   "display_name": "dlvenv",
   "language": "python",
   "name": "python3"
  },
  "language_info": {
   "codemirror_mode": {
    "name": "ipython",
    "version": 3
   },
   "file_extension": ".py",
   "mimetype": "text/x-python",
   "name": "python",
   "nbconvert_exporter": "python",
   "pygments_lexer": "ipython3",
   "version": "3.10.10"
  }
 },
 "nbformat": 4,
 "nbformat_minor": 2
}
